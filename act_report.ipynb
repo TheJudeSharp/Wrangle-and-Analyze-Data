{
 "cells": [
  {
   "cell_type": "markdown",
   "id": "4129e756",
   "metadata": {},
   "source": [
    "# Report : act_report\n",
    "**- Create a _250-word-minimum written report_ called \"act_report.pdf\" or \"act_report.html\" that communicates the insights and displays the visualization(s) produced from your wrangled data. This is to be framed as an external document, like a blog post or magazine article, for example.**"
   ]
  },
  {
   "cell_type": "markdown",
   "id": "cbc820b9",
   "metadata": {},
   "source": [
    "## Analyzing and Visualizing Data\n",
    "In this section, we analyzed and visualized our wrangled dataset. We had to produce at least three (3) insights and one (1) visualization.\n",
    "\n",
    "First of all, the four (4) key points of **Assessing Data** section we paid attention to, was :\n",
    "\n",
    "1) Only original dog ratings (no retweets) with images.\n",
    "\n",
    "\n",
    "2) Assess and clean at least eight (8) quality and two (2) tidiness issues.\n",
    "\n",
    "\n",
    "3) Some numerators are greater than the denominators (10s).\n",
    "\n",
    "\n",
    "4) No tweets beyond August 1st, 2017.\n",
    "\n",
    "\n",
    "After that, we can see that the dimensions have drastically decreased since the three first datasets, leaving from 6785 together to 1292 for `twitter_archive_master` dataset.\n",
    "\n",
    "There are a lot of key variables for insights but we chose those that match together. So we programmaticaly producted the following three (3) insights :\n",
    "\n",
    "\n",
    "- Insight 1 : it displays the count of the number of times the tweet is favorited (or not) based on the number of images in the tweet and the booleans retweeted and favorited.\n",
    "\n",
    "\n",
    "- Insight 2 : it displays the count of the dog ratings according to their names and the images number in the tweet.\n",
    "\n",
    "\n",
    "- Insight 3 : it displays the mean of text size according to the tweet source and the user language.\n",
    "\n",
    "\n",
    "- Visualization : it displays dog rating according to its count as favorite, knowing that the thickness of a point corresponds to the text size and the colour, to the images number.\n",
    "\n",
    "So we had a scatter plot with a lot of points and a colour bar for images number graduation."
   ]
  }
 ],
 "metadata": {
  "kernelspec": {
   "display_name": "Python [conda env:Python_3.6] *",
   "language": "python",
   "name": "conda-env-Python_3.6-py"
  },
  "language_info": {
   "codemirror_mode": {
    "name": "ipython",
    "version": 3
   },
   "file_extension": ".py",
   "mimetype": "text/x-python",
   "name": "python",
   "nbconvert_exporter": "python",
   "pygments_lexer": "ipython3",
   "version": "3.6.15"
  }
 },
 "nbformat": 4,
 "nbformat_minor": 5
}
